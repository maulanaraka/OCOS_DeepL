{
 "cells": [
  {
   "cell_type": "code",
   "execution_count": 5,
   "id": "21ca0328",
   "metadata": {},
   "outputs": [],
   "source": [
    "import time\n",
    "import torch\n",
    "import numpy as np\n",
    "import pygetwindow as gw\n",
    "from selenium import webdriver\n",
    "from selenium.webdriver.common.by import By\n",
    "from torchvision import transforms\n",
    "from PIL import Image\n",
    "import mss\n",
    "import cv2\n",
    "import os"
   ]
  },
  {
   "cell_type": "code",
   "execution_count": 6,
   "id": "5154be1b",
   "metadata": {},
   "outputs": [],
   "source": [
    "# ==== Model Definitions ====\n",
    "from torchvision import models\n",
    "import torch.nn as nn\n",
    "\n",
    "class AngleClassifier(nn.Module):\n",
    "    def __init__(self, num_classes):\n",
    "        super().__init__()\n",
    "        self.model = models.resnet18(pretrained=False)\n",
    "        self.model.fc = nn.Linear(self.model.fc.in_features, num_classes)\n",
    "\n",
    "    def forward(self, x):\n",
    "        return self.model(x)\n",
    "\n",
    "class ComponentClassifier(nn.Module):\n",
    "    def __init__(self, num_outputs):\n",
    "        super().__init__()\n",
    "        self.model = models.resnet18(pretrained=False)\n",
    "        self.model.fc = nn.Sequential(\n",
    "            nn.Linear(self.model.fc.in_features, 256),\n",
    "            nn.ReLU(),\n",
    "            nn.Dropout(0.3),\n",
    "            nn.Linear(256, num_outputs),\n",
    "            nn.Sigmoid()\n",
    "        )\n",
    "\n",
    "    def forward(self, x):\n",
    "        return self.model(x)"
   ]
  },
  {
   "cell_type": "code",
   "execution_count": 12,
   "id": "44ad3428",
   "metadata": {},
   "outputs": [
    {
     "name": "stdout",
     "output_type": "stream",
     "text": [
      "⌛ Opening browser...\n"
     ]
    }
   ],
   "source": [
    "# ==== Step 1: Launch Web Simulation ====\n",
    "url = \"http://103.233.100.26:8080/\"\n",
    "driver = webdriver.Chrome()\n",
    "print(\"⌛ Opening browser...\")\n",
    "driver.get(url)"
   ]
  },
  {
   "cell_type": "code",
   "execution_count": 13,
   "id": "3a764848",
   "metadata": {},
   "outputs": [
    {
     "name": "stdout",
     "output_type": "stream",
     "text": [
      "📷 Canvas captured at: (186, 268, 1737, 1049)\n"
     ]
    }
   ],
   "source": [
    "# ==== Step 2: Wait and Get Canvas Bounding Box ====\n",
    "def get_canvas_bbox(driver):\n",
    "    canvas = driver.find_element(By.TAG_NAME, \"canvas\")\n",
    "    canvas_rect = driver.execute_script(\"\"\"\n",
    "        const rect = arguments[0].getBoundingClientRect();\n",
    "        return {x: rect.left, y: rect.top, width: rect.width, height: rect.height};\n",
    "    \"\"\", canvas)\n",
    "\n",
    "    win = next((w for w in gw.getWindowsWithTitle(\"\") if \"Car Control\" in w.title), None)\n",
    "    if not win:\n",
    "        raise Exception(\"Window with title containing 'Car Control' not found.\")\n",
    "    win_x, win_y = win.left, win.top\n",
    "\n",
    "    offset_x, offset_y = 2, 180\n",
    "    dpi_scale = driver.execute_script(\"return window.devicePixelRatio\") * 1.01\n",
    "\n",
    "    left = int(win_x + canvas_rect['x'] * dpi_scale + offset_x)\n",
    "    top = int(win_y + canvas_rect['y'] * dpi_scale + offset_y)\n",
    "    right = int(left + canvas_rect['width'] * dpi_scale)\n",
    "    bottom = int(top + canvas_rect['height'] * dpi_scale)\n",
    "\n",
    "    return (left, top, right, bottom)\n",
    "\n",
    "bbox = get_canvas_bbox(driver)\n",
    "print(f\"📷 Canvas captured at: {bbox}\")"
   ]
  },
  {
   "cell_type": "code",
   "execution_count": 16,
   "id": "ec70438c",
   "metadata": {},
   "outputs": [
    {
     "name": "stderr",
     "output_type": "stream",
     "text": [
      "C:\\Users\\maula\\AppData\\Local\\Temp\\ipykernel_25020\\1836289699.py:3: FutureWarning: You are using `torch.load` with `weights_only=False` (the current default value), which uses the default pickle module implicitly. It is possible to construct malicious pickle data which will execute arbitrary code during unpickling (See https://github.com/pytorch/pytorch/blob/main/SECURITY.md#untrusted-models for more details). In a future release, the default value for `weights_only` will be flipped to `True`. This limits the functions that could be executed during unpickling. Arbitrary objects will no longer be allowed to be loaded via this mode unless they are explicitly allowlisted by the user via `torch.serialization.add_safe_globals`. We recommend you start setting `weights_only=True` for any use case where you don't have full control of the loaded file. Please open an issue on GitHub for any issues related to this experimental feature.\n",
      "  checkpoint = torch.load(\"car_multi_model.pt\", map_location=device)\n"
     ]
    },
    {
     "name": "stdout",
     "output_type": "stream",
     "text": [
      "🟢 Starting real-time inference... Press 'q' to quit.\n"
     ]
    }
   ],
   "source": [
    "# ==== Step 3: Load Models from .pt File ====\n",
    "device = torch.device(\"cuda\" if torch.cuda.is_available() else \"cpu\")\n",
    "checkpoint = torch.load(\"car_multi_model.pt\", map_location=device)\n",
    "\n",
    "angle_classes = checkpoint[\"angle_label_encoder\"]\n",
    "angle_model = AngleClassifier(num_classes=len(angle_classes))\n",
    "component_model = ComponentClassifier(num_outputs=5)\n",
    "\n",
    "angle_model.load_state_dict(checkpoint[\"angle_model_state_dict\"])\n",
    "component_model.load_state_dict(checkpoint[\"component_model_state_dict\"])\n",
    "angle_model.eval().to(device)\n",
    "component_model.eval().to(device)\n",
    "\n",
    "# ==== Step 4: Image Capture + Preprocess ====\n",
    "transform = transforms.Compose([\n",
    "    transforms.Resize((224, 224)),\n",
    "    transforms.ToTensor(),\n",
    "])\n",
    "\n",
    "def capture_and_preprocess(bbox):\n",
    "    with mss.mss() as sct:\n",
    "        screenshot = sct.grab(bbox)\n",
    "        img = Image.frombytes('RGB', screenshot.size, screenshot.rgb)\n",
    "        img_tensor = transform(img).unsqueeze(0).to(device)\n",
    "        return img, img_tensor\n",
    "\n",
    "# ==== Step 5: Run Prediction Loop with GUI ====\n",
    "print(\"🟢 Starting real-time inference... Press 'q' to quit.\")\n",
    "while True:\n",
    "    img, img_tensor = capture_and_preprocess(bbox)\n",
    "\n",
    "    with torch.no_grad():\n",
    "        angle_logits = angle_model(img_tensor)\n",
    "        component_probs = component_model(img_tensor)\n",
    "\n",
    "    angle_pred = angle_classes[angle_logits.argmax(dim=1).item()]\n",
    "    component_labels = ['FL', 'FR', 'RL', 'RR', 'Hood']\n",
    "    component_pred = (component_probs > 0.5).int().squeeze().cpu().numpy()\n",
    "    component_result = dict(zip(component_labels, component_pred))\n",
    "\n",
    "    # Show results\n",
    "    canvas_cv = np.array(img)[:, :, ::-1].copy()  # Convert to OpenCV BGR format with memory fix\n",
    "    cv2.putText(canvas_cv, f\"Angle: {angle_pred}\", (10, 30),\n",
    "                cv2.FONT_HERSHEY_SIMPLEX, 0.9, (0, 255, 0), 2)\n",
    "\n",
    "    for i, (k, v) in enumerate(component_result.items()):\n",
    "        text = f\"{k}: {'Open' if v else 'Closed'}\"\n",
    "        cv2.putText(canvas_cv, text, (10, 60 + i * 25),\n",
    "                    cv2.FONT_HERSHEY_SIMPLEX, 0.7, (0, 0, 255), 2)  # Red text, thickness 2\n",
    "\n",
    "\n",
    "    cv2.imshow(\"Real-Time Prediction\", canvas_cv)\n",
    "    if cv2.waitKey(1) & 0xFF == ord('q'):\n",
    "        break\n",
    "\n",
    "cv2.destroyAllWindows()\n",
    "# driver.quit()\n"
   ]
  }
 ],
 "metadata": {
  "kernelspec": {
   "display_name": ".venv",
   "language": "python",
   "name": "python3"
  },
  "language_info": {
   "codemirror_mode": {
    "name": "ipython",
    "version": 3
   },
   "file_extension": ".py",
   "mimetype": "text/x-python",
   "name": "python",
   "nbconvert_exporter": "python",
   "pygments_lexer": "ipython3",
   "version": "3.12.4"
  }
 },
 "nbformat": 4,
 "nbformat_minor": 5
}
